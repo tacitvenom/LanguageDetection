{
  "cells": [
    {
      "cell_type": "code",
      "execution_count": 1,
      "metadata": {
        "colab": {
          "base_uri": "https://localhost:8080/"
        },
        "id": "DeiHFQNOkdFw",
        "outputId": "ee878f94-389f-4d20-d30b-3b060f204e94"
      },
      "outputs": [
        {
          "output_type": "stream",
          "name": "stdout",
          "text": [
            "Looking in indexes: https://pypi.org/simple, https://us-python.pkg.dev/colab-wheels/public/simple/\n",
            "Requirement already satisfied: transformers[sentencepiece] in /usr/local/lib/python3.7/dist-packages (4.22.1)\n",
            "Requirement already satisfied: numpy>=1.17 in /usr/local/lib/python3.7/dist-packages (from transformers[sentencepiece]) (1.21.6)\n",
            "Requirement already satisfied: packaging>=20.0 in /usr/local/lib/python3.7/dist-packages (from transformers[sentencepiece]) (21.3)\n",
            "Requirement already satisfied: importlib-metadata in /usr/local/lib/python3.7/dist-packages (from transformers[sentencepiece]) (4.12.0)\n",
            "Requirement already satisfied: tokenizers!=0.11.3,<0.13,>=0.11.1 in /usr/local/lib/python3.7/dist-packages (from transformers[sentencepiece]) (0.12.1)\n",
            "Requirement already satisfied: regex!=2019.12.17 in /usr/local/lib/python3.7/dist-packages (from transformers[sentencepiece]) (2022.6.2)\n",
            "Requirement already satisfied: filelock in /usr/local/lib/python3.7/dist-packages (from transformers[sentencepiece]) (3.8.0)\n",
            "Requirement already satisfied: huggingface-hub<1.0,>=0.9.0 in /usr/local/lib/python3.7/dist-packages (from transformers[sentencepiece]) (0.9.1)\n",
            "Requirement already satisfied: pyyaml>=5.1 in /usr/local/lib/python3.7/dist-packages (from transformers[sentencepiece]) (6.0)\n",
            "Requirement already satisfied: tqdm>=4.27 in /usr/local/lib/python3.7/dist-packages (from transformers[sentencepiece]) (4.64.1)\n",
            "Requirement already satisfied: requests in /usr/local/lib/python3.7/dist-packages (from transformers[sentencepiece]) (2.23.0)\n",
            "Requirement already satisfied: protobuf<=3.20.1 in /usr/local/lib/python3.7/dist-packages (from transformers[sentencepiece]) (3.17.3)\n",
            "Requirement already satisfied: sentencepiece!=0.1.92,>=0.1.91 in /usr/local/lib/python3.7/dist-packages (from transformers[sentencepiece]) (0.1.97)\n",
            "Requirement already satisfied: typing-extensions>=3.7.4.3 in /usr/local/lib/python3.7/dist-packages (from huggingface-hub<1.0,>=0.9.0->transformers[sentencepiece]) (4.1.1)\n",
            "Requirement already satisfied: pyparsing!=3.0.5,>=2.0.2 in /usr/local/lib/python3.7/dist-packages (from packaging>=20.0->transformers[sentencepiece]) (3.0.9)\n",
            "Requirement already satisfied: six>=1.9 in /usr/local/lib/python3.7/dist-packages (from protobuf<=3.20.1->transformers[sentencepiece]) (1.15.0)\n",
            "Requirement already satisfied: zipp>=0.5 in /usr/local/lib/python3.7/dist-packages (from importlib-metadata->transformers[sentencepiece]) (3.8.1)\n",
            "Requirement already satisfied: urllib3!=1.25.0,!=1.25.1,<1.26,>=1.21.1 in /usr/local/lib/python3.7/dist-packages (from requests->transformers[sentencepiece]) (1.24.3)\n",
            "Requirement already satisfied: chardet<4,>=3.0.2 in /usr/local/lib/python3.7/dist-packages (from requests->transformers[sentencepiece]) (3.0.4)\n",
            "Requirement already satisfied: idna<3,>=2.5 in /usr/local/lib/python3.7/dist-packages (from requests->transformers[sentencepiece]) (2.10)\n",
            "Requirement already satisfied: certifi>=2017.4.17 in /usr/local/lib/python3.7/dist-packages (from requests->transformers[sentencepiece]) (2022.6.15)\n"
          ]
        }
      ],
      "source": [
        "!pip install transformers[sentencepiece]"
      ]
    },
    {
      "cell_type": "code",
      "execution_count": 2,
      "metadata": {
        "id": "czlg13-bUUOJ"
      },
      "outputs": [],
      "source": [
        "import pandas as pd\n",
        "import numpy as np"
      ]
    },
    {
      "cell_type": "code",
      "execution_count": 3,
      "metadata": {
        "colab": {
          "base_uri": "https://localhost:8080/",
          "height": 206
        },
        "id": "Q_1YAFn1Ugc3",
        "outputId": "dbe284c7-d71c-4814-9cc7-bd23feccf8e6"
      },
      "outputs": [
        {
          "output_type": "execute_result",
          "data": {
            "text/plain": [
              "      Artist                                   Title  \\\n",
              "5606  Khalid                              Young dumb   \n",
              "5607  Khalid  Khalid - Vertigo  (Tradução Português)   \n",
              "5608  Khalid               Better (Miles Away Remix)   \n",
              "5609  Khalid  Khalid - Better (Official Music Video)   \n",
              "5610  Khalid                  Better (Rennie! Remix)   \n",
              "\n",
              "                                                  Lyric lang  \n",
              "5606  so you're still thinking of me just like i kno...   en  \n",
              "5607  será que é melhor apenas acreditar nas teorias...   pt  \n",
              "5608  i'm not really drunk i never get that fucked u...   en  \n",
              "5609  users considering it's a virus or malware must...   en  \n",
              "5610  love to see you shine in the night like the di...   en  "
            ],
            "text/html": [
              "\n",
              "  <div id=\"df-2928754b-5bb1-4ddc-a38d-3b467fd8a14e\">\n",
              "    <div class=\"colab-df-container\">\n",
              "      <div>\n",
              "<style scoped>\n",
              "    .dataframe tbody tr th:only-of-type {\n",
              "        vertical-align: middle;\n",
              "    }\n",
              "\n",
              "    .dataframe tbody tr th {\n",
              "        vertical-align: top;\n",
              "    }\n",
              "\n",
              "    .dataframe thead th {\n",
              "        text-align: right;\n",
              "    }\n",
              "</style>\n",
              "<table border=\"1\" class=\"dataframe\">\n",
              "  <thead>\n",
              "    <tr style=\"text-align: right;\">\n",
              "      <th></th>\n",
              "      <th>Artist</th>\n",
              "      <th>Title</th>\n",
              "      <th>Lyric</th>\n",
              "      <th>lang</th>\n",
              "    </tr>\n",
              "  </thead>\n",
              "  <tbody>\n",
              "    <tr>\n",
              "      <th>5606</th>\n",
              "      <td>Khalid</td>\n",
              "      <td>Young dumb</td>\n",
              "      <td>so you're still thinking of me just like i kno...</td>\n",
              "      <td>en</td>\n",
              "    </tr>\n",
              "    <tr>\n",
              "      <th>5607</th>\n",
              "      <td>Khalid</td>\n",
              "      <td>Khalid - Vertigo  (Tradução Português)</td>\n",
              "      <td>será que é melhor apenas acreditar nas teorias...</td>\n",
              "      <td>pt</td>\n",
              "    </tr>\n",
              "    <tr>\n",
              "      <th>5608</th>\n",
              "      <td>Khalid</td>\n",
              "      <td>Better (Miles Away Remix)</td>\n",
              "      <td>i'm not really drunk i never get that fucked u...</td>\n",
              "      <td>en</td>\n",
              "    </tr>\n",
              "    <tr>\n",
              "      <th>5609</th>\n",
              "      <td>Khalid</td>\n",
              "      <td>Khalid - Better (Official Music Video)</td>\n",
              "      <td>users considering it's a virus or malware must...</td>\n",
              "      <td>en</td>\n",
              "    </tr>\n",
              "    <tr>\n",
              "      <th>5610</th>\n",
              "      <td>Khalid</td>\n",
              "      <td>Better (Rennie! Remix)</td>\n",
              "      <td>love to see you shine in the night like the di...</td>\n",
              "      <td>en</td>\n",
              "    </tr>\n",
              "  </tbody>\n",
              "</table>\n",
              "</div>\n",
              "      <button class=\"colab-df-convert\" onclick=\"convertToInteractive('df-2928754b-5bb1-4ddc-a38d-3b467fd8a14e')\"\n",
              "              title=\"Convert this dataframe to an interactive table.\"\n",
              "              style=\"display:none;\">\n",
              "        \n",
              "  <svg xmlns=\"http://www.w3.org/2000/svg\" height=\"24px\"viewBox=\"0 0 24 24\"\n",
              "       width=\"24px\">\n",
              "    <path d=\"M0 0h24v24H0V0z\" fill=\"none\"/>\n",
              "    <path d=\"M18.56 5.44l.94 2.06.94-2.06 2.06-.94-2.06-.94-.94-2.06-.94 2.06-2.06.94zm-11 1L8.5 8.5l.94-2.06 2.06-.94-2.06-.94L8.5 2.5l-.94 2.06-2.06.94zm10 10l.94 2.06.94-2.06 2.06-.94-2.06-.94-.94-2.06-.94 2.06-2.06.94z\"/><path d=\"M17.41 7.96l-1.37-1.37c-.4-.4-.92-.59-1.43-.59-.52 0-1.04.2-1.43.59L10.3 9.45l-7.72 7.72c-.78.78-.78 2.05 0 2.83L4 21.41c.39.39.9.59 1.41.59.51 0 1.02-.2 1.41-.59l7.78-7.78 2.81-2.81c.8-.78.8-2.07 0-2.86zM5.41 20L4 18.59l7.72-7.72 1.47 1.35L5.41 20z\"/>\n",
              "  </svg>\n",
              "      </button>\n",
              "      \n",
              "  <style>\n",
              "    .colab-df-container {\n",
              "      display:flex;\n",
              "      flex-wrap:wrap;\n",
              "      gap: 12px;\n",
              "    }\n",
              "\n",
              "    .colab-df-convert {\n",
              "      background-color: #E8F0FE;\n",
              "      border: none;\n",
              "      border-radius: 50%;\n",
              "      cursor: pointer;\n",
              "      display: none;\n",
              "      fill: #1967D2;\n",
              "      height: 32px;\n",
              "      padding: 0 0 0 0;\n",
              "      width: 32px;\n",
              "    }\n",
              "\n",
              "    .colab-df-convert:hover {\n",
              "      background-color: #E2EBFA;\n",
              "      box-shadow: 0px 1px 2px rgba(60, 64, 67, 0.3), 0px 1px 3px 1px rgba(60, 64, 67, 0.15);\n",
              "      fill: #174EA6;\n",
              "    }\n",
              "\n",
              "    [theme=dark] .colab-df-convert {\n",
              "      background-color: #3B4455;\n",
              "      fill: #D2E3FC;\n",
              "    }\n",
              "\n",
              "    [theme=dark] .colab-df-convert:hover {\n",
              "      background-color: #434B5C;\n",
              "      box-shadow: 0px 1px 3px 1px rgba(0, 0, 0, 0.15);\n",
              "      filter: drop-shadow(0px 1px 2px rgba(0, 0, 0, 0.3));\n",
              "      fill: #FFFFFF;\n",
              "    }\n",
              "  </style>\n",
              "\n",
              "      <script>\n",
              "        const buttonEl =\n",
              "          document.querySelector('#df-2928754b-5bb1-4ddc-a38d-3b467fd8a14e button.colab-df-convert');\n",
              "        buttonEl.style.display =\n",
              "          google.colab.kernel.accessAllowed ? 'block' : 'none';\n",
              "\n",
              "        async function convertToInteractive(key) {\n",
              "          const element = document.querySelector('#df-2928754b-5bb1-4ddc-a38d-3b467fd8a14e');\n",
              "          const dataTable =\n",
              "            await google.colab.kernel.invokeFunction('convertToInteractive',\n",
              "                                                     [key], {});\n",
              "          if (!dataTable) return;\n",
              "\n",
              "          const docLinkHtml = 'Like what you see? Visit the ' +\n",
              "            '<a target=\"_blank\" href=https://colab.research.google.com/notebooks/data_table.ipynb>data table notebook</a>'\n",
              "            + ' to learn more about interactive tables.';\n",
              "          element.innerHTML = '';\n",
              "          dataTable['output_type'] = 'display_data';\n",
              "          await google.colab.output.renderOutput(dataTable, element);\n",
              "          const docLink = document.createElement('div');\n",
              "          docLink.innerHTML = docLinkHtml;\n",
              "          element.appendChild(docLink);\n",
              "        }\n",
              "      </script>\n",
              "    </div>\n",
              "  </div>\n",
              "  "
            ]
          },
          "metadata": {},
          "execution_count": 3
        }
      ],
      "source": [
        "df_all_lyrics_with_lang = pd.read_csv('df_all_lyrics_with_lang.csv', sep='|')\n",
        "df_all_lyrics_with_lang.tail()"
      ]
    },
    {
      "cell_type": "code",
      "execution_count": 4,
      "metadata": {
        "colab": {
          "base_uri": "https://localhost:8080/"
        },
        "id": "aLmMcxNii6JG",
        "outputId": "354f1e65-981b-48c8-b057-1316ef0f38b3"
      },
      "outputs": [
        {
          "output_type": "stream",
          "name": "stdout",
          "text": [
            "Artist|Title|Lyric|lang\n",
            "Dua Lipa|New Rules|one one one one one   talkin' in my sleep at night makin' myself crazy out of my mind out of my mind wrote it down and read it out hopin' it would save me too many times too many times  refrain my love he makes me feel like nobody else nobody else but my love he doesn't love me so i tell myself i tell myself  pre one don't pick up the phone you know he's only callin' 'cause he's drunk and alone two don't let him in you'll have to kick him out again three don't be his friend you know you're gonna wake up in his bed in the morning and if you're under him you ain't gettin' over him   i got new rules i count 'em i got new rules i count 'em i gotta tell them to myself i got new rules i count 'em i gotta tell them to myself   i keep pushin' forwards but he keeps pullin' me backwards nowhere to turn no way nowhere to turn no now i'm standin' back from it i finally see the pattern i never learn i never learn  refrain but my love he doesn't love me so i tell myself i tell myself i do i do i do  pre one don't pick up the phone you know he's only callin' 'cause he's drunk and alone two don't let him in you'll have to kick him out again three don't be his friend you know you're gonna wake up in his bed in the morning and if you're under him you ain't gettin' over him   i got new rules i count 'em i got new rules i count 'em i gotta tell them to myself i got new rules i count 'em i gotta tell them to myself   practice makes perfect i'm still tryna learn it by heart i got new rules i count 'em eat sleep and breathe it rehearse and repeat it 'cause i i got new  pre one don't pick up the phone yeah you know he's only callin' 'cause he's drunk and alone alone two don't let him in uhooh you'll have to kick him out again again three don't be his friend you know you're gonna wake up in his bed in the morning and if you're under him you ain't gettin' over him   i got new rules i count 'em i got new rules i count 'em whoaooh whoaooh whoa i gotta tell them to myself i got new rules i count 'em baby you know i count 'em i gotta tell them to myself   don't let him in don't let him in don't don't don't don't don't be his friend don't be his friend don't don't don't don't don't let him in don't let him in don't don't don't don't don't be his friend don't be his friend don't don't don't don't you're gettin' over him|en\n",
            "Dua Lipa|Don’t Start Now|if you don't wanna see me   did a full 80 crazy thinking 'bout the way i was did the heartbreak change me maybe but look at where i ended up i'm all good already so moved on it's scary i'm not where you left me at all so  pre if you don't wanna see me dancing with somebody if you wanna believe that anything could stop me   don't show up don't come out don't start caring about me now walk away you know how don't start caring about me now   aren't you the guy who tried to hurt me with the word goodbye though it took some time to survive you i'm better on the other side i'm all good already so moved on it's scary i'm not where you left me at all so  pre if you don't wanna see me dancing with somebody if you wanna believe that anything could stop me don't don't don't   don't show up don't come out don't start caring about me now walk away you know how don't start caring about me now 'bout me now 'bout me   up up don't come out out out don't show up up up don't start now oh up up don't come out out i'm not where you left me at all so  pre if you don't wanna see me dancing with somebody if you wanna believe that anything could stop me   don't show up don't show up don't come out don't come out don't start caring about me now 'bout me now walk away walk away you know how you know how don't start caring about me now so   up up don't come out out out don't show up up up walk away walk away so up up don't come out out out don't show up up up walk away walk away oh|en\n",
            "Dua Lipa|IDGAF|you call me all friendly tellin' me how much you miss me that's funny i guess you've heard my songs well i'm too busy for your business go find a girl who wants to listen 'cause if you think i was born yesterday you have got me wrong  pre so i cut you off i don't need your love 'cause i already cried enough i've been done i've been movin' on since we said goodbye i cut you off i don't need your love so you can try all you want your time is up i'll tell you why   you say you're sorry but it's too late now so save it get gone shut up 'cause if you think i care about you now well boy i don't give a fuck   i remember that weekend when my best friend caught you creepin' you blamed it all on the alcohol so i made my decision 'cause you made your bed sleep in it play the victim and switch your position i'm through i'm done  pre so i cut you off i don't need your love 'cause i already cried enough i've been done i've been movin' on since we said goodbye i cut you off i don't need your love so you can try all you want your time is up i'll tell you why   you say you're sorry but it's too late now so save it get gone shut up 'cause if you think i care about you now well boy i don't give a fuck  post i see you tryna get to me i see you beggin' on your knees boy i don't give a fuck so stop tryna get to me tch get up off your knees 'cause boy i don't give a fuck   about you no i don't give a damn you keep reminiscin' on when you were my man but i'm over you now you're all in the past you talk all that sweet talk but i ain't comin' back  breakdown cut you off i don't need your love so you can try all you want your time is up i'll tell you why i'll tell you why   you say you're sorry but it's too late now so save it get gone shut up too late now 'cause if you think i care about you now well boy i don't give a fuck boy i don't give a  post i see you tryna get to me i see you beggin' on your knees boy i don't give a fuck so stop tryna get to me get to me tch get up off your knees 'cause boy i don't give a fuck|en\n",
            "Dua Lipa|Blow Your Mind (Mwah)|i know it's hot i know we've got something that money can't buy fighting in fits biting your lip loving 'til late in the night  pre tell me i'm too crazy you can't tame me can't tame me tell me i have changed but i'm the same me old same me inside hey   if you don't like the way i talk then why am i on your mind if you don't like the way i rock then finish your glass of wine we fight and we argue you'll still love me blind if we don't fuck this whole thing up guaranteed i can blow your mind mwah  post and tonight i'm alive ain't no dollar sign guaranteed i can blow your mind mwah and tonight i'm alive ain't no dollar sign guaranteed i can blow your mind mwah mwah mwah mwah mwah   yeah i'm so bad best that you've had i guess you're diggin' the show open the door you want some more when you wanna leave let me know  pre tell me i'm too crazy you can't tame me can't tame me tell me i have changed but i'm the same me old same me inside hey   if you don't like the way i talk then why am i on your mind if you don't like the way i rock then finish your glass of wine we fight and we argue you'll still love me blind if we don't fuck this whole thing up guaranteed i can blow your mind mwah  post and tonight i'm alive ain't no dollar sign guaranteed i can blow your mind mwah and tonight i'm alive ain't no dollar sign guaranteed i can blow your mind mwah  breakdown and tonight i'm alive ain't no dollar sign guaranteed i can blow your mind mwah hey and tonight i'm alive ain't no dollar sign guaranteed i can blow your mind hey  pre tell me i'm too crazy you can't tame me can't tame me tell me i have changed but i'm the same me old same me inside hey mwah   if you don't like the way i talk then why am i on your mind if you don't like the way i rock then finish your glass of wine we fight and we argue you'll still love me blind if we don't fuck this whole thing up guaranteed i can blow your mind mwah  post and tonight i'm alive ain't no dollar sign guaranteed i can blow your mind mwah and tonight i'm alive ain't no dollar sign guaranteed i can blow your mind mwah|en\n"
          ]
        }
      ],
      "source": [
        "! head -5 df_all_lyrics_with_lang.csv"
      ]
    },
    {
      "cell_type": "code",
      "execution_count": 5,
      "metadata": {
        "colab": {
          "base_uri": "https://localhost:8080/",
          "height": 206
        },
        "id": "SZKJsJghUzUt",
        "outputId": "45cbe468-2e5c-43fa-a083-432848ad62c1"
      },
      "outputs": [
        {
          "output_type": "execute_result",
          "data": {
            "text/plain": [
              "      Artist                                   Title  \\\n",
              "4679  Khalid                  Better (noclue? Remix)   \n",
              "4680  Khalid                              Young dumb   \n",
              "4681  Khalid               Better (Miles Away Remix)   \n",
              "4682  Khalid  Khalid - Better (Official Music Video)   \n",
              "4683  Khalid                  Better (Rennie! Remix)   \n",
              "\n",
              "                                                  Lyric lang  \n",
              "4679  love to see you shine in the night like the di...   en  \n",
              "4680  so you're still thinking of me just like i kno...   en  \n",
              "4681  i'm not really drunk i never get that fucked u...   en  \n",
              "4682  users considering it's a virus or malware must...   en  \n",
              "4683  love to see you shine in the night like the di...   en  "
            ],
            "text/html": [
              "\n",
              "  <div id=\"df-d4164476-cc9c-46b6-b4e8-224144ad9fa0\">\n",
              "    <div class=\"colab-df-container\">\n",
              "      <div>\n",
              "<style scoped>\n",
              "    .dataframe tbody tr th:only-of-type {\n",
              "        vertical-align: middle;\n",
              "    }\n",
              "\n",
              "    .dataframe tbody tr th {\n",
              "        vertical-align: top;\n",
              "    }\n",
              "\n",
              "    .dataframe thead th {\n",
              "        text-align: right;\n",
              "    }\n",
              "</style>\n",
              "<table border=\"1\" class=\"dataframe\">\n",
              "  <thead>\n",
              "    <tr style=\"text-align: right;\">\n",
              "      <th></th>\n",
              "      <th>Artist</th>\n",
              "      <th>Title</th>\n",
              "      <th>Lyric</th>\n",
              "      <th>lang</th>\n",
              "    </tr>\n",
              "  </thead>\n",
              "  <tbody>\n",
              "    <tr>\n",
              "      <th>4679</th>\n",
              "      <td>Khalid</td>\n",
              "      <td>Better (noclue? Remix)</td>\n",
              "      <td>love to see you shine in the night like the di...</td>\n",
              "      <td>en</td>\n",
              "    </tr>\n",
              "    <tr>\n",
              "      <th>4680</th>\n",
              "      <td>Khalid</td>\n",
              "      <td>Young dumb</td>\n",
              "      <td>so you're still thinking of me just like i kno...</td>\n",
              "      <td>en</td>\n",
              "    </tr>\n",
              "    <tr>\n",
              "      <th>4681</th>\n",
              "      <td>Khalid</td>\n",
              "      <td>Better (Miles Away Remix)</td>\n",
              "      <td>i'm not really drunk i never get that fucked u...</td>\n",
              "      <td>en</td>\n",
              "    </tr>\n",
              "    <tr>\n",
              "      <th>4682</th>\n",
              "      <td>Khalid</td>\n",
              "      <td>Khalid - Better (Official Music Video)</td>\n",
              "      <td>users considering it's a virus or malware must...</td>\n",
              "      <td>en</td>\n",
              "    </tr>\n",
              "    <tr>\n",
              "      <th>4683</th>\n",
              "      <td>Khalid</td>\n",
              "      <td>Better (Rennie! Remix)</td>\n",
              "      <td>love to see you shine in the night like the di...</td>\n",
              "      <td>en</td>\n",
              "    </tr>\n",
              "  </tbody>\n",
              "</table>\n",
              "</div>\n",
              "      <button class=\"colab-df-convert\" onclick=\"convertToInteractive('df-d4164476-cc9c-46b6-b4e8-224144ad9fa0')\"\n",
              "              title=\"Convert this dataframe to an interactive table.\"\n",
              "              style=\"display:none;\">\n",
              "        \n",
              "  <svg xmlns=\"http://www.w3.org/2000/svg\" height=\"24px\"viewBox=\"0 0 24 24\"\n",
              "       width=\"24px\">\n",
              "    <path d=\"M0 0h24v24H0V0z\" fill=\"none\"/>\n",
              "    <path d=\"M18.56 5.44l.94 2.06.94-2.06 2.06-.94-2.06-.94-.94-2.06-.94 2.06-2.06.94zm-11 1L8.5 8.5l.94-2.06 2.06-.94-2.06-.94L8.5 2.5l-.94 2.06-2.06.94zm10 10l.94 2.06.94-2.06 2.06-.94-2.06-.94-.94-2.06-.94 2.06-2.06.94z\"/><path d=\"M17.41 7.96l-1.37-1.37c-.4-.4-.92-.59-1.43-.59-.52 0-1.04.2-1.43.59L10.3 9.45l-7.72 7.72c-.78.78-.78 2.05 0 2.83L4 21.41c.39.39.9.59 1.41.59.51 0 1.02-.2 1.41-.59l7.78-7.78 2.81-2.81c.8-.78.8-2.07 0-2.86zM5.41 20L4 18.59l7.72-7.72 1.47 1.35L5.41 20z\"/>\n",
              "  </svg>\n",
              "      </button>\n",
              "      \n",
              "  <style>\n",
              "    .colab-df-container {\n",
              "      display:flex;\n",
              "      flex-wrap:wrap;\n",
              "      gap: 12px;\n",
              "    }\n",
              "\n",
              "    .colab-df-convert {\n",
              "      background-color: #E8F0FE;\n",
              "      border: none;\n",
              "      border-radius: 50%;\n",
              "      cursor: pointer;\n",
              "      display: none;\n",
              "      fill: #1967D2;\n",
              "      height: 32px;\n",
              "      padding: 0 0 0 0;\n",
              "      width: 32px;\n",
              "    }\n",
              "\n",
              "    .colab-df-convert:hover {\n",
              "      background-color: #E2EBFA;\n",
              "      box-shadow: 0px 1px 2px rgba(60, 64, 67, 0.3), 0px 1px 3px 1px rgba(60, 64, 67, 0.15);\n",
              "      fill: #174EA6;\n",
              "    }\n",
              "\n",
              "    [theme=dark] .colab-df-convert {\n",
              "      background-color: #3B4455;\n",
              "      fill: #D2E3FC;\n",
              "    }\n",
              "\n",
              "    [theme=dark] .colab-df-convert:hover {\n",
              "      background-color: #434B5C;\n",
              "      box-shadow: 0px 1px 3px 1px rgba(0, 0, 0, 0.15);\n",
              "      filter: drop-shadow(0px 1px 2px rgba(0, 0, 0, 0.3));\n",
              "      fill: #FFFFFF;\n",
              "    }\n",
              "  </style>\n",
              "\n",
              "      <script>\n",
              "        const buttonEl =\n",
              "          document.querySelector('#df-d4164476-cc9c-46b6-b4e8-224144ad9fa0 button.colab-df-convert');\n",
              "        buttonEl.style.display =\n",
              "          google.colab.kernel.accessAllowed ? 'block' : 'none';\n",
              "\n",
              "        async function convertToInteractive(key) {\n",
              "          const element = document.querySelector('#df-d4164476-cc9c-46b6-b4e8-224144ad9fa0');\n",
              "          const dataTable =\n",
              "            await google.colab.kernel.invokeFunction('convertToInteractive',\n",
              "                                                     [key], {});\n",
              "          if (!dataTable) return;\n",
              "\n",
              "          const docLinkHtml = 'Like what you see? Visit the ' +\n",
              "            '<a target=\"_blank\" href=https://colab.research.google.com/notebooks/data_table.ipynb>data table notebook</a>'\n",
              "            + ' to learn more about interactive tables.';\n",
              "          element.innerHTML = '';\n",
              "          dataTable['output_type'] = 'display_data';\n",
              "          await google.colab.output.renderOutput(dataTable, element);\n",
              "          const docLink = document.createElement('div');\n",
              "          docLink.innerHTML = docLinkHtml;\n",
              "          element.appendChild(docLink);\n",
              "        }\n",
              "      </script>\n",
              "    </div>\n",
              "  </div>\n",
              "  "
            ]
          },
          "metadata": {},
          "execution_count": 5
        }
      ],
      "source": [
        "df_all_lyrics_english = df_all_lyrics_with_lang[df_all_lyrics_with_lang['lang']=='en'].reset_index(drop=True)\n",
        "df_all_lyrics_english.tail()"
      ]
    },
    {
      "cell_type": "code",
      "execution_count": 6,
      "metadata": {
        "id": "4CLFzPcJkmR2"
      },
      "outputs": [],
      "source": [
        "lyrics = list(df_all_lyrics_english['Lyric'])\n",
        "song_names = list(df_all_lyrics_english['Title'])"
      ]
    },
    {
      "cell_type": "code",
      "execution_count": 7,
      "metadata": {
        "id": "r3EdWNCAUqiH"
      },
      "outputs": [],
      "source": [
        "from transformers import AutoTokenizer, AutoModel\n",
        "import torch\n",
        "import torch.nn.functional as F\n",
        "\n",
        "#Mean Pooling - Take attention mask into account for correct averaging\n",
        "def mean_pooling(model_output, attention_mask):\n",
        "    token_embeddings = model_output[0] #First element of model_output contains all token embeddings\n",
        "    input_mask_expanded = attention_mask.unsqueeze(-1).expand(token_embeddings.size()).float()\n",
        "    return torch.sum(token_embeddings * input_mask_expanded, 1) / torch.clamp(input_mask_expanded.sum(1), min=1e-9)\n",
        "\n",
        "\n",
        "checkpoint = \"sentence-transformers/all-MiniLM-L6-v2\"\n",
        "# Load model from HuggingFace Hub\n",
        "tokenizer = AutoTokenizer.from_pretrained(checkpoint)\n",
        "model = AutoModel.from_pretrained(checkpoint)\n"
      ]
    },
    {
      "cell_type": "code",
      "execution_count": 8,
      "metadata": {
        "id": "FwV9NXP-n4eS"
      },
      "outputs": [],
      "source": [
        "def generate_batch(lst, batch_size):\n",
        "  for i in range(0, len(lst), batch_size):\n",
        "    yield lst[i : i + batch_size]"
      ]
    },
    {
      "cell_type": "code",
      "execution_count": 9,
      "metadata": {
        "id": "pQEfjaL8ruAi"
      },
      "outputs": [],
      "source": [
        "def get_batch_embedding(lyrics_batch, tokenizer, model, mean_pooling):\n",
        "  # Tokenize sentences\n",
        "  encoded_input = tokenizer(lyrics_batch, padding=True, truncation=True, return_tensors='pt')\n",
        "\n",
        "  # Compute token embeddings\n",
        "  with torch.no_grad():\n",
        "      model_output = model(**encoded_input)\n",
        "\n",
        "  # Perform pooling\n",
        "  sentence_embeddings = mean_pooling(model_output, encoded_input['attention_mask'])\n",
        "\n",
        "  # Normalize embeddings\n",
        "  return F.normalize(sentence_embeddings, p=2, dim=1)"
      ]
    },
    {
      "cell_type": "code",
      "execution_count": 10,
      "metadata": {
        "id": "0Raj-2MRvIxK"
      },
      "outputs": [],
      "source": [
        "batch_size = 50\n",
        "input_batches = generate_batch(lyrics, batch_size)\n",
        "first_batch = next(input_batches)\n",
        "embeddings = get_batch_embedding(first_batch, tokenizer, model, mean_pooling)"
      ]
    },
    {
      "cell_type": "code",
      "execution_count": 11,
      "metadata": {
        "colab": {
          "base_uri": "https://localhost:8080/"
        },
        "id": "zjeiwN6-t430",
        "outputId": "4bb15454-c7bf-4f81-a38e-0ec61e4d86cd"
      },
      "outputs": [
        {
          "output_type": "execute_result",
          "data": {
            "text/plain": [
              "torch.Size([50, 384])"
            ]
          },
          "metadata": {},
          "execution_count": 11
        }
      ],
      "source": [
        "embeddings.size()"
      ]
    },
    {
      "cell_type": "code",
      "execution_count": 12,
      "metadata": {
        "id": "ZsFb0hA_rEwm"
      },
      "outputs": [],
      "source": [
        "for batch in input_batches:\n",
        "  batch_embeddings = get_batch_embedding(batch, tokenizer, model, mean_pooling)\n",
        "  embeddings = torch.cat((batch_embeddings, embeddings), 0)\n"
      ]
    },
    {
      "cell_type": "code",
      "source": [
        "embeddings.size()"
      ],
      "metadata": {
        "colab": {
          "base_uri": "https://localhost:8080/"
        },
        "id": "3VzgWNNLYFLA",
        "outputId": "d76898c8-0227-4109-cec2-dff160beb4f8"
      },
      "execution_count": 13,
      "outputs": [
        {
          "output_type": "execute_result",
          "data": {
            "text/plain": [
              "torch.Size([4684, 384])"
            ]
          },
          "metadata": {},
          "execution_count": 13
        }
      ]
    },
    {
      "cell_type": "code",
      "execution_count": 14,
      "metadata": {
        "id": "_QSY92xhmwcz"
      },
      "outputs": [],
      "source": [
        "def nxn_cos_sim(A, dim=1, eps=1e-8):\n",
        "  numerator = A @ A.T\n",
        "  A_l2 = torch.mul(A, A).sum(axis=dim)\n",
        "  denominator = torch.max(torch.sqrt(torch.outer(A_l2, A_l2)), torch.tensor(eps))\n",
        "  return torch.div(numerator, denominator)\n",
        "\n",
        "cos_sim = nxn_cos_sim(embeddings)\n",
        "similar_songs_indices = torch.argsort(cos_sim, dim=1, descending=True)"
      ]
    },
    {
      "cell_type": "code",
      "source": [
        "def get_most_similar_top_n_songs(similar_songs_indices, song_names, song_index, top_n):\n",
        "  top_n_most_similar_songs_indices = similar_songs_indices[song_index][:(top_n+1)]\n",
        "  songs = [song_names[index] for index in top_n_most_similar_songs_indices]\n",
        "  return songs[0], songs[1:]\n"
      ],
      "metadata": {
        "id": "Ev0WoWjRlEGY"
      },
      "execution_count": 15,
      "outputs": []
    },
    {
      "cell_type": "code",
      "source": [
        "song_index = 580\n",
        "top_n=5\n",
        "get_most_similar_top_n_songs(similar_songs_indices, song_names, song_index, top_n)"
      ],
      "metadata": {
        "colab": {
          "base_uri": "https://localhost:8080/"
        },
        "id": "dGnONxNTlqXN",
        "outputId": "4e465a60-6d26-4095-9a20-444022172389"
      },
      "execution_count": 16,
      "outputs": [
        {
          "output_type": "execute_result",
          "data": {
            "text/plain": [
              "('Cameras',\n",
              " ['Toosie Slide',\n",
              "  'Charged Up',\n",
              "  'Do It Now',\n",
              "  'Successful',\n",
              "  'Open Letter Critiquing Sexism'])"
            ]
          },
          "metadata": {},
          "execution_count": 16
        }
      ]
    },
    {
      "cell_type": "code",
      "source": [
        "df_all_lyrics_english['similar_songs_indices'] = similar_songs_indices.numpy().tolist()"
      ],
      "metadata": {
        "id": "WpspSapbnO2c"
      },
      "execution_count": 17,
      "outputs": []
    },
    {
      "cell_type": "code",
      "source": [
        "df_all_lyrics_english.to_parquet('df_similar_lyrics.parquet.gzip',compression='gzip')  "
      ],
      "metadata": {
        "id": "Ct3gqF-dEqnI"
      },
      "execution_count": 25,
      "outputs": []
    },
    {
      "cell_type": "code",
      "source": [
        "df_similar_lyrics = pd.read_parquet('df_similar_lyrics.parquet.gzip')\n",
        "df_similar_lyrics.tail()"
      ],
      "metadata": {
        "colab": {
          "base_uri": "https://localhost:8080/",
          "height": 337
        },
        "id": "AMd1V6tFFu1A",
        "outputId": "68c3198e-41f0-4f03-a2a5-5426ca73c21b"
      },
      "execution_count": 26,
      "outputs": [
        {
          "output_type": "execute_result",
          "data": {
            "text/plain": [
              "      Artist                                   Title  \\\n",
              "4679  Khalid                  Better (noclue? Remix)   \n",
              "4680  Khalid                              Young dumb   \n",
              "4681  Khalid               Better (Miles Away Remix)   \n",
              "4682  Khalid  Khalid - Better (Official Music Video)   \n",
              "4683  Khalid                  Better (Rennie! Remix)   \n",
              "\n",
              "                                                  Lyric lang  \\\n",
              "4679  love to see you shine in the night like the di...   en   \n",
              "4680  so you're still thinking of me just like i kno...   en   \n",
              "4681  i'm not really drunk i never get that fucked u...   en   \n",
              "4682  users considering it's a virus or malware must...   en   \n",
              "4683  love to see you shine in the night like the di...   en   \n",
              "\n",
              "                                  similar_songs_indices  \n",
              "4679  [4679, 253, 154, 3992, 167, 3614, 2452, 3395, ...  \n",
              "4680  [4680, 4630, 4657, 4509, 1811, 2247, 4292, 340...  \n",
              "4681  [4681, 4556, 2799, 3078, 4271, 2067, 4193, 441...  \n",
              "4682  [4682, 4622, 1831, 4628, 4668, 2389, 4417, 458...  \n",
              "4683  [4683, 0, 3340, 4288, 4456, 4069, 4292, 4325, ...  "
            ],
            "text/html": [
              "\n",
              "  <div id=\"df-1f430770-4066-46ee-83e6-13c22eb6f8bf\">\n",
              "    <div class=\"colab-df-container\">\n",
              "      <div>\n",
              "<style scoped>\n",
              "    .dataframe tbody tr th:only-of-type {\n",
              "        vertical-align: middle;\n",
              "    }\n",
              "\n",
              "    .dataframe tbody tr th {\n",
              "        vertical-align: top;\n",
              "    }\n",
              "\n",
              "    .dataframe thead th {\n",
              "        text-align: right;\n",
              "    }\n",
              "</style>\n",
              "<table border=\"1\" class=\"dataframe\">\n",
              "  <thead>\n",
              "    <tr style=\"text-align: right;\">\n",
              "      <th></th>\n",
              "      <th>Artist</th>\n",
              "      <th>Title</th>\n",
              "      <th>Lyric</th>\n",
              "      <th>lang</th>\n",
              "      <th>similar_songs_indices</th>\n",
              "    </tr>\n",
              "  </thead>\n",
              "  <tbody>\n",
              "    <tr>\n",
              "      <th>4679</th>\n",
              "      <td>Khalid</td>\n",
              "      <td>Better (noclue? Remix)</td>\n",
              "      <td>love to see you shine in the night like the di...</td>\n",
              "      <td>en</td>\n",
              "      <td>[4679, 253, 154, 3992, 167, 3614, 2452, 3395, ...</td>\n",
              "    </tr>\n",
              "    <tr>\n",
              "      <th>4680</th>\n",
              "      <td>Khalid</td>\n",
              "      <td>Young dumb</td>\n",
              "      <td>so you're still thinking of me just like i kno...</td>\n",
              "      <td>en</td>\n",
              "      <td>[4680, 4630, 4657, 4509, 1811, 2247, 4292, 340...</td>\n",
              "    </tr>\n",
              "    <tr>\n",
              "      <th>4681</th>\n",
              "      <td>Khalid</td>\n",
              "      <td>Better (Miles Away Remix)</td>\n",
              "      <td>i'm not really drunk i never get that fucked u...</td>\n",
              "      <td>en</td>\n",
              "      <td>[4681, 4556, 2799, 3078, 4271, 2067, 4193, 441...</td>\n",
              "    </tr>\n",
              "    <tr>\n",
              "      <th>4682</th>\n",
              "      <td>Khalid</td>\n",
              "      <td>Khalid - Better (Official Music Video)</td>\n",
              "      <td>users considering it's a virus or malware must...</td>\n",
              "      <td>en</td>\n",
              "      <td>[4682, 4622, 1831, 4628, 4668, 2389, 4417, 458...</td>\n",
              "    </tr>\n",
              "    <tr>\n",
              "      <th>4683</th>\n",
              "      <td>Khalid</td>\n",
              "      <td>Better (Rennie! Remix)</td>\n",
              "      <td>love to see you shine in the night like the di...</td>\n",
              "      <td>en</td>\n",
              "      <td>[4683, 0, 3340, 4288, 4456, 4069, 4292, 4325, ...</td>\n",
              "    </tr>\n",
              "  </tbody>\n",
              "</table>\n",
              "</div>\n",
              "      <button class=\"colab-df-convert\" onclick=\"convertToInteractive('df-1f430770-4066-46ee-83e6-13c22eb6f8bf')\"\n",
              "              title=\"Convert this dataframe to an interactive table.\"\n",
              "              style=\"display:none;\">\n",
              "        \n",
              "  <svg xmlns=\"http://www.w3.org/2000/svg\" height=\"24px\"viewBox=\"0 0 24 24\"\n",
              "       width=\"24px\">\n",
              "    <path d=\"M0 0h24v24H0V0z\" fill=\"none\"/>\n",
              "    <path d=\"M18.56 5.44l.94 2.06.94-2.06 2.06-.94-2.06-.94-.94-2.06-.94 2.06-2.06.94zm-11 1L8.5 8.5l.94-2.06 2.06-.94-2.06-.94L8.5 2.5l-.94 2.06-2.06.94zm10 10l.94 2.06.94-2.06 2.06-.94-2.06-.94-.94-2.06-.94 2.06-2.06.94z\"/><path d=\"M17.41 7.96l-1.37-1.37c-.4-.4-.92-.59-1.43-.59-.52 0-1.04.2-1.43.59L10.3 9.45l-7.72 7.72c-.78.78-.78 2.05 0 2.83L4 21.41c.39.39.9.59 1.41.59.51 0 1.02-.2 1.41-.59l7.78-7.78 2.81-2.81c.8-.78.8-2.07 0-2.86zM5.41 20L4 18.59l7.72-7.72 1.47 1.35L5.41 20z\"/>\n",
              "  </svg>\n",
              "      </button>\n",
              "      \n",
              "  <style>\n",
              "    .colab-df-container {\n",
              "      display:flex;\n",
              "      flex-wrap:wrap;\n",
              "      gap: 12px;\n",
              "    }\n",
              "\n",
              "    .colab-df-convert {\n",
              "      background-color: #E8F0FE;\n",
              "      border: none;\n",
              "      border-radius: 50%;\n",
              "      cursor: pointer;\n",
              "      display: none;\n",
              "      fill: #1967D2;\n",
              "      height: 32px;\n",
              "      padding: 0 0 0 0;\n",
              "      width: 32px;\n",
              "    }\n",
              "\n",
              "    .colab-df-convert:hover {\n",
              "      background-color: #E2EBFA;\n",
              "      box-shadow: 0px 1px 2px rgba(60, 64, 67, 0.3), 0px 1px 3px 1px rgba(60, 64, 67, 0.15);\n",
              "      fill: #174EA6;\n",
              "    }\n",
              "\n",
              "    [theme=dark] .colab-df-convert {\n",
              "      background-color: #3B4455;\n",
              "      fill: #D2E3FC;\n",
              "    }\n",
              "\n",
              "    [theme=dark] .colab-df-convert:hover {\n",
              "      background-color: #434B5C;\n",
              "      box-shadow: 0px 1px 3px 1px rgba(0, 0, 0, 0.15);\n",
              "      filter: drop-shadow(0px 1px 2px rgba(0, 0, 0, 0.3));\n",
              "      fill: #FFFFFF;\n",
              "    }\n",
              "  </style>\n",
              "\n",
              "      <script>\n",
              "        const buttonEl =\n",
              "          document.querySelector('#df-1f430770-4066-46ee-83e6-13c22eb6f8bf button.colab-df-convert');\n",
              "        buttonEl.style.display =\n",
              "          google.colab.kernel.accessAllowed ? 'block' : 'none';\n",
              "\n",
              "        async function convertToInteractive(key) {\n",
              "          const element = document.querySelector('#df-1f430770-4066-46ee-83e6-13c22eb6f8bf');\n",
              "          const dataTable =\n",
              "            await google.colab.kernel.invokeFunction('convertToInteractive',\n",
              "                                                     [key], {});\n",
              "          if (!dataTable) return;\n",
              "\n",
              "          const docLinkHtml = 'Like what you see? Visit the ' +\n",
              "            '<a target=\"_blank\" href=https://colab.research.google.com/notebooks/data_table.ipynb>data table notebook</a>'\n",
              "            + ' to learn more about interactive tables.';\n",
              "          element.innerHTML = '';\n",
              "          dataTable['output_type'] = 'display_data';\n",
              "          await google.colab.output.renderOutput(dataTable, element);\n",
              "          const docLink = document.createElement('div');\n",
              "          docLink.innerHTML = docLinkHtml;\n",
              "          element.appendChild(docLink);\n",
              "        }\n",
              "      </script>\n",
              "    </div>\n",
              "  </div>\n",
              "  "
            ]
          },
          "metadata": {},
          "execution_count": 26
        }
      ]
    }
  ],
  "metadata": {
    "colab": {
      "collapsed_sections": [],
      "provenance": []
    },
    "kernelspec": {
      "display_name": "Python 3",
      "name": "python3"
    },
    "language_info": {
      "name": "python"
    }
  },
  "nbformat": 4,
  "nbformat_minor": 0
}