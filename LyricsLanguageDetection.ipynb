{
 "cells": [
  {
   "cell_type": "code",
   "execution_count": 1,
   "metadata": {
    "colab": {
     "base_uri": "https://localhost:8080/"
    },
    "id": "EJNDWMMFpV22",
    "outputId": "bad58c5f-470f-41d4-f471-53fa8c43d8f8",
    "scrolled": true
   },
   "outputs": [
    {
     "name": "stdout",
     "output_type": "stream",
     "text": [
      "Requirement already satisfied: transformers[sentencepiece] in /Library/Frameworks/Python.framework/Versions/3.10/lib/python3.10/site-packages (4.20.1)\n",
      "Requirement already satisfied: tokenizers!=0.11.3,<0.13,>=0.11.1 in /Library/Frameworks/Python.framework/Versions/3.10/lib/python3.10/site-packages (from transformers[sentencepiece]) (0.12.1)\n",
      "Requirement already satisfied: requests in /Library/Frameworks/Python.framework/Versions/3.10/lib/python3.10/site-packages (from transformers[sentencepiece]) (2.28.0)\n",
      "Requirement already satisfied: pyyaml>=5.1 in /Library/Frameworks/Python.framework/Versions/3.10/lib/python3.10/site-packages (from transformers[sentencepiece]) (6.0)\n",
      "Requirement already satisfied: regex!=2019.12.17 in /Library/Frameworks/Python.framework/Versions/3.10/lib/python3.10/site-packages (from transformers[sentencepiece]) (2022.6.2)\n",
      "Requirement already satisfied: numpy>=1.17 in /Library/Frameworks/Python.framework/Versions/3.10/lib/python3.10/site-packages (from transformers[sentencepiece]) (1.21.4)\n",
      "Requirement already satisfied: tqdm>=4.27 in /Library/Frameworks/Python.framework/Versions/3.10/lib/python3.10/site-packages (from transformers[sentencepiece]) (4.64.0)\n",
      "Requirement already satisfied: huggingface-hub<1.0,>=0.1.0 in /Library/Frameworks/Python.framework/Versions/3.10/lib/python3.10/site-packages (from transformers[sentencepiece]) (0.8.1)\n",
      "Requirement already satisfied: packaging>=20.0 in /Library/Frameworks/Python.framework/Versions/3.10/lib/python3.10/site-packages (from transformers[sentencepiece]) (21.3)\n",
      "Requirement already satisfied: filelock in /Library/Frameworks/Python.framework/Versions/3.10/lib/python3.10/site-packages (from transformers[sentencepiece]) (3.7.1)\n",
      "Requirement already satisfied: sentencepiece!=0.1.92,>=0.1.91 in /Library/Frameworks/Python.framework/Versions/3.10/lib/python3.10/site-packages (from transformers[sentencepiece]) (0.1.97)\n",
      "Requirement already satisfied: protobuf<=3.20.1 in /Library/Frameworks/Python.framework/Versions/3.10/lib/python3.10/site-packages (from transformers[sentencepiece]) (3.20.1)\n",
      "Requirement already satisfied: typing-extensions>=3.7.4.3 in /Library/Frameworks/Python.framework/Versions/3.10/lib/python3.10/site-packages (from huggingface-hub<1.0,>=0.1.0->transformers[sentencepiece]) (4.2.0)\n",
      "Requirement already satisfied: pyparsing!=3.0.5,>=2.0.2 in /Library/Frameworks/Python.framework/Versions/3.10/lib/python3.10/site-packages (from packaging>=20.0->transformers[sentencepiece]) (3.0.9)\n",
      "Requirement already satisfied: certifi>=2017.4.17 in /Library/Frameworks/Python.framework/Versions/3.10/lib/python3.10/site-packages (from requests->transformers[sentencepiece]) (2022.6.15)\n",
      "Requirement already satisfied: charset-normalizer~=2.0.0 in /Library/Frameworks/Python.framework/Versions/3.10/lib/python3.10/site-packages (from requests->transformers[sentencepiece]) (2.0.12)\n",
      "Requirement already satisfied: urllib3<1.27,>=1.21.1 in /Library/Frameworks/Python.framework/Versions/3.10/lib/python3.10/site-packages (from requests->transformers[sentencepiece]) (1.26.9)\n",
      "Requirement already satisfied: idna<4,>=2.5 in /Library/Frameworks/Python.framework/Versions/3.10/lib/python3.10/site-packages (from requests->transformers[sentencepiece]) (3.3)\n",
      "\u001b[33mWARNING: You are using pip version 21.2.3; however, version 22.2.2 is available.\n",
      "You should consider upgrading via the '/Library/Frameworks/Python.framework/Versions/3.10/bin/python3.10 -m pip install --upgrade pip' command.\u001b[0m\n"
     ]
    }
   ],
   "source": [
    "!pip3 install transformers[sentencepiece]"
   ]
  },
  {
   "cell_type": "code",
   "execution_count": 2,
   "metadata": {},
   "outputs": [],
   "source": [
    "import numpy as np\n",
    "import os\n",
    "import pandas as pd\n",
    "import torch\n",
    "from transformers import AutoTokenizer, AutoModelForSequenceClassification"
   ]
  },
  {
   "cell_type": "code",
   "execution_count": 3,
   "metadata": {
    "id": "zPqAHeB_lj3A"
   },
   "outputs": [],
   "source": [
    "# Same as before\n",
    "checkpoint = \"papluca/xlm-roberta-base-language-detection\"\n",
    "tokenizer = AutoTokenizer.from_pretrained(checkpoint)\n",
    "model = AutoModelForSequenceClassification.from_pretrained(checkpoint)"
   ]
  },
  {
   "cell_type": "code",
   "execution_count": 4,
   "metadata": {},
   "outputs": [
    {
     "data": {
      "text/html": [
       "<div>\n",
       "<style scoped>\n",
       "    .dataframe tbody tr th:only-of-type {\n",
       "        vertical-align: middle;\n",
       "    }\n",
       "\n",
       "    .dataframe tbody tr th {\n",
       "        vertical-align: top;\n",
       "    }\n",
       "\n",
       "    .dataframe thead th {\n",
       "        text-align: right;\n",
       "    }\n",
       "</style>\n",
       "<table border=\"1\" class=\"dataframe\">\n",
       "  <thead>\n",
       "    <tr style=\"text-align: right;\">\n",
       "      <th></th>\n",
       "      <th>Unnamed: 0</th>\n",
       "      <th>Artist</th>\n",
       "      <th>Title</th>\n",
       "      <th>Album</th>\n",
       "      <th>Year</th>\n",
       "      <th>Date</th>\n",
       "      <th>Lyric</th>\n",
       "    </tr>\n",
       "  </thead>\n",
       "  <tbody>\n",
       "    <tr>\n",
       "      <th>59</th>\n",
       "      <td>59.0</td>\n",
       "      <td>Khalid</td>\n",
       "      <td>Khalid - Vertigo  (Tradução Português)</td>\n",
       "      <td>NaN</td>\n",
       "      <td>2018.0</td>\n",
       "      <td>2018-10-28</td>\n",
       "      <td>será que é melhor apenas acreditar nas teorias...</td>\n",
       "    </tr>\n",
       "    <tr>\n",
       "      <th>60</th>\n",
       "      <td>60.0</td>\n",
       "      <td>Khalid</td>\n",
       "      <td>Better (Miles Away Remix)</td>\n",
       "      <td>NaN</td>\n",
       "      <td>2018.0</td>\n",
       "      <td>2018-12-12</td>\n",
       "      <td>i'm not really drunk i never get that fucked u...</td>\n",
       "    </tr>\n",
       "    <tr>\n",
       "      <th>61</th>\n",
       "      <td>61.0</td>\n",
       "      <td>Khalid</td>\n",
       "      <td>Khalid - Better (Official Music Video)</td>\n",
       "      <td>NaN</td>\n",
       "      <td>2018.0</td>\n",
       "      <td>2018-05-07</td>\n",
       "      <td>users considering it's a virus or malware must...</td>\n",
       "    </tr>\n",
       "    <tr>\n",
       "      <th>62</th>\n",
       "      <td>62.0</td>\n",
       "      <td>Khalid</td>\n",
       "      <td>Perfect Lover</td>\n",
       "      <td>NaN</td>\n",
       "      <td>NaN</td>\n",
       "      <td>NaN</td>\n",
       "      <td>lyrics for this song have yet to be released p...</td>\n",
       "    </tr>\n",
       "    <tr>\n",
       "      <th>63</th>\n",
       "      <td>63.0</td>\n",
       "      <td>Khalid</td>\n",
       "      <td>Better (Rennie! Remix)</td>\n",
       "      <td>NaN</td>\n",
       "      <td>2019.0</td>\n",
       "      <td>2019-02-01</td>\n",
       "      <td>love to see you shine in the night like the di...</td>\n",
       "    </tr>\n",
       "  </tbody>\n",
       "</table>\n",
       "</div>"
      ],
      "text/plain": [
       "    Unnamed: 0  Artist                                   Title Album    Year  \\\n",
       "59        59.0  Khalid  Khalid - Vertigo  (Tradução Português)   NaN  2018.0   \n",
       "60        60.0  Khalid               Better (Miles Away Remix)   NaN  2018.0   \n",
       "61        61.0  Khalid  Khalid - Better (Official Music Video)   NaN  2018.0   \n",
       "62        62.0  Khalid                           Perfect Lover   NaN     NaN   \n",
       "63        63.0  Khalid                  Better (Rennie! Remix)   NaN  2019.0   \n",
       "\n",
       "          Date                                              Lyric  \n",
       "59  2018-10-28  será que é melhor apenas acreditar nas teorias...  \n",
       "60  2018-12-12  i'm not really drunk i never get that fucked u...  \n",
       "61  2018-05-07  users considering it's a virus or malware must...  \n",
       "62         NaN  lyrics for this song have yet to be released p...  \n",
       "63  2019-02-01  love to see you shine in the night like the di...  "
      ]
     },
     "execution_count": 4,
     "metadata": {},
     "output_type": "execute_result"
    }
   ],
   "source": [
    "path = \"./resources/raw/csv/\"\n",
    "df_all_artists_raw = pd.DataFrame()\n",
    "for file in os.listdir(path):\n",
    "    df_single_artist_raw = pd.read_csv(os.path.join(path, file))\n",
    "    df_all_artists_raw = pd.concat([df_all_artists_raw, df_single_artist_raw])\n",
    "\n",
    "df_all_artists_raw.tail()"
   ]
  },
  {
   "cell_type": "code",
   "execution_count": 7,
   "metadata": {},
   "outputs": [],
   "source": [
    "path = './resources/intermediate'\n",
    "\n",
    "if not os.path.exists(path):\n",
    "  os.makedirs(path)\n",
    "\n",
    "relevant_columns = ['Artist', 'Title', 'Lyric']\n",
    "df_all_artists_raw.to_csv(os.path.join(path, 'df_all_artists_raw.csv'))"
   ]
  },
  {
   "cell_type": "code",
   "execution_count": 6,
   "metadata": {},
   "outputs": [],
   "source": [
    "df_all_artists_lyrics_present = df_all_artists_raw[df_all_artists_raw.Lyric.notnull()]"
   ]
  },
  {
   "cell_type": "code",
   "execution_count": 8,
   "metadata": {},
   "outputs": [
    {
     "data": {
      "text/plain": [
       "[\"one one one one one   talkin' in my sleep at night makin' myself crazy out of my mind out of my mind\",\n",
       " \"if you don't wanna see me   did a full 80 crazy thinking 'bout the way i was did the heartbreak chan\",\n",
       " \"you call me all friendly tellin' me how much you miss me that's funny i guess you've heard my songs \",\n",
       " \"i know it's hot i know we've got something that money can't buy fighting in fits biting your lip lov\",\n",
       " \"i see the moon i see the moon i see the moon oh when you're looking at the sun i'm not a fool i'm no\"]"
      ]
     },
     "execution_count": 8,
     "metadata": {},
     "output_type": "execute_result"
    }
   ],
   "source": [
    "sequences = list(df_all_artists_lyrics_present['Lyric'].str[:100])\n",
    "sequences[:5]"
   ]
  },
  {
   "cell_type": "code",
   "execution_count": 9,
   "metadata": {
    "colab": {
     "base_uri": "https://localhost:8080/"
    },
    "id": "i2Hv73ZOrmEw",
    "outputId": "6d6b0b4f-59f9-48eb-a3ec-5fcae525d5f6"
   },
   "outputs": [
    {
     "data": {
      "text/plain": [
       "{'input_ids': tensor([[     0,   1632,   1632,  ...,      1,      1,      1],\n",
       "        [     0,   2174,    398,  ...,      1,      1,      1],\n",
       "        [     0,    398,  11782,  ...,      1,      1,      1],\n",
       "        ...,\n",
       "        [     0,  72095, 179635,  ...,      1,      1,      1],\n",
       "        [     0,  68944,    100,  ...,      1,      1,      1],\n",
       "        [     0,   5161,     47,  ...,      1,      1,      1]]), 'attention_mask': tensor([[1, 1, 1,  ..., 0, 0, 0],\n",
       "        [1, 1, 1,  ..., 0, 0, 0],\n",
       "        [1, 1, 1,  ..., 0, 0, 0],\n",
       "        ...,\n",
       "        [1, 1, 1,  ..., 0, 0, 0],\n",
       "        [1, 1, 1,  ..., 0, 0, 0],\n",
       "        [1, 1, 1,  ..., 0, 0, 0]])}"
      ]
     },
     "execution_count": 9,
     "metadata": {},
     "output_type": "execute_result"
    }
   ],
   "source": [
    "# sequences = [\n",
    "#     \"It's such a wonderful world.\",\n",
    "#     \"Estoy muy contenta.\",\n",
    "# ]\n",
    "\n",
    "model_inputs = tokenizer(sequences, padding=True, truncation=True, return_tensors='pt')\n",
    "model_inputs"
   ]
  },
  {
   "cell_type": "code",
   "execution_count": null,
   "metadata": {
    "colab": {
     "base_uri": "https://localhost:8080/"
    },
    "id": "TYbBGyL2qfhW",
    "outputId": "fea7fd0d-0be0-4bbe-9c8d-9bdccc4d463f"
   },
   "outputs": [],
   "source": [
    "output = model(**model_inputs)\n",
    "output"
   ]
  },
  {
   "cell_type": "code",
   "execution_count": null,
   "metadata": {
    "id": "XUnveUOdVFIf"
   },
   "outputs": [],
   "source": [
    "predictions = torch.nn.functional.softmax(output.logits, dim=-1)"
   ]
  },
  {
   "cell_type": "code",
   "execution_count": null,
   "metadata": {
    "colab": {
     "base_uri": "https://localhost:8080/"
    },
    "id": "q-H8PPXeZxaD",
    "outputId": "62f9638a-c49f-4976-c024-6fee747d92d5"
   },
   "outputs": [],
   "source": [
    "\n",
    "ranking = np.argmax(predictions.detach().numpy(), axis=1)\n",
    "[model.config.id2label[i] for i in ranking]"
   ]
  }
 ],
 "metadata": {
  "colab": {
   "name": "Processing the data (PyTorch)",
   "provenance": []
  },
  "gpuClass": "standard",
  "kernelspec": {
   "display_name": "Python 3 (ipykernel)",
   "language": "python",
   "name": "python3"
  },
  "language_info": {
   "codemirror_mode": {
    "name": "ipython",
    "version": 3
   },
   "file_extension": ".py",
   "mimetype": "text/x-python",
   "name": "python",
   "nbconvert_exporter": "python",
   "pygments_lexer": "ipython3",
   "version": "3.10.0"
  }
 },
 "nbformat": 4,
 "nbformat_minor": 1
}
